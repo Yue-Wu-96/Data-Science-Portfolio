{
 "cells": [
  {
   "cell_type": "markdown",
   "metadata": {},
   "source": [
    "# Tag Products for E-commerce \n",
    "\n",
    "### Libraries & Keyword:\n",
    "\n",
    " - `Requests`\n",
    " - `Scrapy Selector`\n",
    " - `Css`\n",
    " - `Fuzzywuzzy`\n",
    " - `Pandas`\n",
    "\n",
    "### Process\n",
    " - Step 1 - Scrape Web for up-to-date collection names\n",
    " - Step 2 - Find a string score for Fuzzywuzzy\n",
    " - Step 3 - Tag collection in a new column\n",
    " - Step 4 - Deal with NAs with domain knowledge \n",
    " - Step 5 - Concat Na and not_Na dataset\n",
    " - Wrap up - What're the top 10 collections?\n"
   ]
  },
  {
   "cell_type": "code",
   "execution_count": 124,
   "metadata": {},
   "outputs": [
    {
     "name": "stdout",
     "output_type": "stream",
     "text": [
      "(100, 6)\n"
     ]
    },
    {
     "data": {
      "text/html": [
       "<div>\n",
       "<style scoped>\n",
       "    .dataframe tbody tr th:only-of-type {\n",
       "        vertical-align: middle;\n",
       "    }\n",
       "\n",
       "    .dataframe tbody tr th {\n",
       "        vertical-align: top;\n",
       "    }\n",
       "\n",
       "    .dataframe thead th {\n",
       "        text-align: right;\n",
       "    }\n",
       "</style>\n",
       "<table border=\"1\" class=\"dataframe\">\n",
       "  <thead>\n",
       "    <tr style=\"text-align: right;\">\n",
       "      <th></th>\n",
       "      <th>product_title</th>\n",
       "      <th>variant_sku</th>\n",
       "      <th>variant_title</th>\n",
       "      <th>day</th>\n",
       "      <th>net_quantity</th>\n",
       "      <th>total_sales</th>\n",
       "    </tr>\n",
       "  </thead>\n",
       "  <tbody>\n",
       "    <tr>\n",
       "      <td>0</td>\n",
       "      <td>Organic Necklace Petite</td>\n",
       "      <td>0110</td>\n",
       "      <td>Cavan Gold</td>\n",
       "      <td>2020-04-28</td>\n",
       "      <td>1</td>\n",
       "      <td>115.0</td>\n",
       "    </tr>\n",
       "    <tr>\n",
       "      <td>1</td>\n",
       "      <td>Villanova Wildcat Necklace</td>\n",
       "      <td>VU0110WILD</td>\n",
       "      <td>Cavan Gold</td>\n",
       "      <td>2020-04-25</td>\n",
       "      <td>1</td>\n",
       "      <td>115.0</td>\n",
       "    </tr>\n",
       "    <tr>\n",
       "      <td>2</td>\n",
       "      <td>Miami M Necklace</td>\n",
       "      <td>MOH0110M</td>\n",
       "      <td>Cavan Gold</td>\n",
       "      <td>2020-04-25</td>\n",
       "      <td>1</td>\n",
       "      <td>115.0</td>\n",
       "    </tr>\n",
       "    <tr>\n",
       "      <td>3</td>\n",
       "      <td>LIMITED EDITION MMXX Necklace</td>\n",
       "      <td>MMXX0110</td>\n",
       "      <td>Cavan Gold</td>\n",
       "      <td>2020-04-28</td>\n",
       "      <td>1</td>\n",
       "      <td>115.0</td>\n",
       "    </tr>\n",
       "    <tr>\n",
       "      <td>4</td>\n",
       "      <td>Princeton Tiger Necklace</td>\n",
       "      <td>PRI0110TIG</td>\n",
       "      <td>Cavan Gold</td>\n",
       "      <td>2020-04-22</td>\n",
       "      <td>1</td>\n",
       "      <td>115.0</td>\n",
       "    </tr>\n",
       "  </tbody>\n",
       "</table>\n",
       "</div>"
      ],
      "text/plain": [
       "                   product_title variant_sku  ... net_quantity total_sales\n",
       "0        Organic Necklace Petite        0110  ...            1       115.0\n",
       "1     Villanova Wildcat Necklace  VU0110WILD  ...            1       115.0\n",
       "2               Miami M Necklace    MOH0110M  ...            1       115.0\n",
       "3  LIMITED EDITION MMXX Necklace    MMXX0110  ...            1       115.0\n",
       "4       Princeton Tiger Necklace  PRI0110TIG  ...            1       115.0\n",
       "\n",
       "[5 rows x 6 columns]"
      ]
     },
     "execution_count": 124,
     "metadata": {},
     "output_type": "execute_result"
    }
   ],
   "source": [
    "# load data and inspect\n",
    "\n",
    "import pandas as pd \n",
    "df = pd.read_csv('kc_sales_sample.csv')\n",
    "print(df.shape)\n",
    "df.head()"
   ]
  },
  {
   "cell_type": "markdown",
   "metadata": {},
   "source": [
    "## Step 1 - Scrape Web \n",
    "\n",
    "To get the most up-to-date information without the leg work of excel mannul input and typos"
   ]
  },
  {
   "cell_type": "code",
   "execution_count": 28,
   "metadata": {},
   "outputs": [
    {
     "name": "stdout",
     "output_type": "stream",
     "text": [
      "<class 'list'> 165\n"
     ]
    }
   ],
   "source": [
    "import requests\n",
    "import scrapy \n",
    "from scrapy import Selector\n",
    "\n",
    "# request data from web\n",
    "url = 'https://kylecavan.com/pages/schools'\n",
    "html = requests.get(url).content\n",
    "sel = Selector(text = html)\n",
    "\n",
    "# define css path\n",
    "css = '.school-menu a::text'\n",
    "collections = sel.css(css).extract()\n",
    "print(type(collections), len(collections))"
   ]
  },
  {
   "cell_type": "code",
   "execution_count": 33,
   "metadata": {},
   "outputs": [
    {
     "data": {
      "text/html": [
       "<div>\n",
       "<style scoped>\n",
       "    .dataframe tbody tr th:only-of-type {\n",
       "        vertical-align: middle;\n",
       "    }\n",
       "\n",
       "    .dataframe tbody tr th {\n",
       "        vertical-align: top;\n",
       "    }\n",
       "\n",
       "    .dataframe thead th {\n",
       "        text-align: right;\n",
       "    }\n",
       "</style>\n",
       "<table border=\"1\" class=\"dataframe\">\n",
       "  <thead>\n",
       "    <tr style=\"text-align: right;\">\n",
       "      <th></th>\n",
       "      <th>Collection</th>\n",
       "    </tr>\n",
       "  </thead>\n",
       "  <tbody>\n",
       "    <tr>\n",
       "      <td>0</td>\n",
       "      <td>Alabama</td>\n",
       "    </tr>\n",
       "    <tr>\n",
       "      <td>1</td>\n",
       "      <td>Auburn</td>\n",
       "    </tr>\n",
       "    <tr>\n",
       "      <td>2</td>\n",
       "      <td>Baylor</td>\n",
       "    </tr>\n",
       "    <tr>\n",
       "      <td>3</td>\n",
       "      <td>Berkeley</td>\n",
       "    </tr>\n",
       "    <tr>\n",
       "      <td>4</td>\n",
       "      <td>Boston College</td>\n",
       "    </tr>\n",
       "  </tbody>\n",
       "</table>\n",
       "</div>"
      ],
      "text/plain": [
       "       Collection\n",
       "0         Alabama\n",
       "1          Auburn\n",
       "2          Baylor\n",
       "3       Berkeley \n",
       "4  Boston College"
      ]
     },
     "execution_count": 33,
     "metadata": {},
     "output_type": "execute_result"
    }
   ],
   "source": [
    "# create a collection dataframe\n",
    "clt = pd.DataFrame(collections)\n",
    "clt.rename(columns = {0:'Collection'}, inplace = True)\n",
    "clt.head()"
   ]
  },
  {
   "cell_type": "markdown",
   "metadata": {},
   "source": [
    "## Step 2 - Decide a string score \n",
    "\n",
    "The `process.extract` returns the similar string in the iterable, a score for string similarity, and its postion in a tuple."
   ]
  },
  {
   "cell_type": "code",
   "execution_count": 93,
   "metadata": {},
   "outputs": [
    {
     "data": {
      "text/plain": [
       "[[('Villanova Wildcat Necklace', 90, 1),\n",
       "  ('Villanova V Necklace', 90, 15),\n",
       "  ('Villanova Organic Necklace', 90, 19)],\n",
       " [('Columbia Crown Necklace', 90, 55),\n",
       "  ('Columbia C Necklace', 90, 56),\n",
       "  ('Columbia Low Library Necklace', 90, 65)],\n",
       " [('Alpha Omicron Pi Rose Necklace Petite', 90, 71),\n",
       "  ('Alpha Omicron Pi Rose Necklace Petite', 90, 89),\n",
       "  ('Alpha Delta Pi Letters Necklace Petite', 86, 8)]]"
      ]
     },
     "execution_count": 93,
     "metadata": {},
     "output_type": "execute_result"
    }
   ],
   "source": [
    "import fuzzywuzzy\n",
    "from fuzzywuzzy import process\n",
    "\n",
    "test_item = ['Villanova', 'Columbia', 'Alpha Omicron Pi']\n",
    "test_score = [ process.extract(x, df['product_title'], limit = 3) for x in test_item]\n",
    "test_score"
   ]
  },
  {
   "cell_type": "markdown",
   "metadata": {},
   "source": [
    "### Result:\n",
    "\n",
    "__90__ is a good score, enough to filter out nuance.   \n",
    "Example, `Alpha Omicron Pi` = 90, while `Alpha Delta Pi` = 86."
   ]
  },
  {
   "cell_type": "markdown",
   "metadata": {},
   "source": [
    "## Step 3 - Tag collection in a new column"
   ]
  },
  {
   "cell_type": "code",
   "execution_count": 84,
   "metadata": {},
   "outputs": [],
   "source": [
    "\n",
    "for item in clt['Collection']:\n",
    "\n",
    "    matches = process.extract(item, df['product_title'], limit = df.shape[0])  \n",
    "    # compare all titles with collection strings\n",
    "    \n",
    "    for potential_match in matches:\n",
    "   \n",
    "        if potential_match[1]>=90:  # the score discovered above\n",
    "            match_test = df['product_title'] == potential_match[0]  # find the match in df.product_title\n",
    "            df.loc[match_test, 'Collection'] = item  # tag it\n",
    "    "
   ]
  },
  {
   "cell_type": "code",
   "execution_count": 94,
   "metadata": {},
   "outputs": [
    {
     "data": {
      "text/html": [
       "<div>\n",
       "<style scoped>\n",
       "    .dataframe tbody tr th:only-of-type {\n",
       "        vertical-align: middle;\n",
       "    }\n",
       "\n",
       "    .dataframe tbody tr th {\n",
       "        vertical-align: top;\n",
       "    }\n",
       "\n",
       "    .dataframe thead th {\n",
       "        text-align: right;\n",
       "    }\n",
       "</style>\n",
       "<table border=\"1\" class=\"dataframe\">\n",
       "  <thead>\n",
       "    <tr style=\"text-align: right;\">\n",
       "      <th></th>\n",
       "      <th>product_title</th>\n",
       "      <th>variant_sku</th>\n",
       "      <th>variant_title</th>\n",
       "      <th>day</th>\n",
       "      <th>net_quantity</th>\n",
       "      <th>total_sales</th>\n",
       "      <th>Collection</th>\n",
       "    </tr>\n",
       "  </thead>\n",
       "  <tbody>\n",
       "    <tr>\n",
       "      <td>0</td>\n",
       "      <td>Organic Necklace Petite</td>\n",
       "      <td>0110</td>\n",
       "      <td>Cavan Gold</td>\n",
       "      <td>2020-04-28</td>\n",
       "      <td>1</td>\n",
       "      <td>115.0</td>\n",
       "      <td>NaN</td>\n",
       "    </tr>\n",
       "    <tr>\n",
       "      <td>1</td>\n",
       "      <td>Villanova Wildcat Necklace</td>\n",
       "      <td>VU0110WILD</td>\n",
       "      <td>Cavan Gold</td>\n",
       "      <td>2020-04-25</td>\n",
       "      <td>1</td>\n",
       "      <td>115.0</td>\n",
       "      <td>Villanova</td>\n",
       "    </tr>\n",
       "    <tr>\n",
       "      <td>2</td>\n",
       "      <td>Miami M Necklace</td>\n",
       "      <td>MOH0110M</td>\n",
       "      <td>Cavan Gold</td>\n",
       "      <td>2020-04-25</td>\n",
       "      <td>1</td>\n",
       "      <td>115.0</td>\n",
       "      <td>Miami</td>\n",
       "    </tr>\n",
       "    <tr>\n",
       "      <td>3</td>\n",
       "      <td>LIMITED EDITION MMXX Necklace</td>\n",
       "      <td>MMXX0110</td>\n",
       "      <td>Cavan Gold</td>\n",
       "      <td>2020-04-28</td>\n",
       "      <td>1</td>\n",
       "      <td>115.0</td>\n",
       "      <td>NaN</td>\n",
       "    </tr>\n",
       "    <tr>\n",
       "      <td>4</td>\n",
       "      <td>Princeton Tiger Necklace</td>\n",
       "      <td>PRI0110TIG</td>\n",
       "      <td>Cavan Gold</td>\n",
       "      <td>2020-04-22</td>\n",
       "      <td>1</td>\n",
       "      <td>115.0</td>\n",
       "      <td>Princeton</td>\n",
       "    </tr>\n",
       "  </tbody>\n",
       "</table>\n",
       "</div>"
      ],
      "text/plain": [
       "                   product_title variant_sku  ... total_sales Collection\n",
       "0        Organic Necklace Petite        0110  ...       115.0        NaN\n",
       "1     Villanova Wildcat Necklace  VU0110WILD  ...       115.0  Villanova\n",
       "2               Miami M Necklace    MOH0110M  ...       115.0     Miami \n",
       "3  LIMITED EDITION MMXX Necklace    MMXX0110  ...       115.0        NaN\n",
       "4       Princeton Tiger Necklace  PRI0110TIG  ...       115.0  Princeton\n",
       "\n",
       "[5 rows x 7 columns]"
      ]
     },
     "execution_count": 94,
     "metadata": {},
     "output_type": "execute_result"
    }
   ],
   "source": [
    "df.head()"
   ]
  },
  {
   "cell_type": "markdown",
   "metadata": {},
   "source": [
    "## Step 4 - Deal with NAs"
   ]
  },
  {
   "cell_type": "code",
   "execution_count": 95,
   "metadata": {},
   "outputs": [
    {
     "data": {
      "text/plain": [
       "(39, 7)"
      ]
     },
     "execution_count": 95,
     "metadata": {},
     "output_type": "execute_result"
    }
   ],
   "source": [
    "na_flt = df['Collection'].isna()\n",
    "not_na = df[~na_flt]\n",
    "na = df[na_flt]\n",
    "na.shape"
   ]
  },
  {
   "cell_type": "code",
   "execution_count": 96,
   "metadata": {},
   "outputs": [
    {
     "data": {
      "text/html": [
       "<div>\n",
       "<style scoped>\n",
       "    .dataframe tbody tr th:only-of-type {\n",
       "        vertical-align: middle;\n",
       "    }\n",
       "\n",
       "    .dataframe tbody tr th {\n",
       "        vertical-align: top;\n",
       "    }\n",
       "\n",
       "    .dataframe thead th {\n",
       "        text-align: right;\n",
       "    }\n",
       "</style>\n",
       "<table border=\"1\" class=\"dataframe\">\n",
       "  <thead>\n",
       "    <tr style=\"text-align: right;\">\n",
       "      <th></th>\n",
       "      <th>product_title</th>\n",
       "      <th>variant_sku</th>\n",
       "      <th>variant_title</th>\n",
       "      <th>day</th>\n",
       "      <th>net_quantity</th>\n",
       "      <th>total_sales</th>\n",
       "      <th>Collection</th>\n",
       "    </tr>\n",
       "  </thead>\n",
       "  <tbody>\n",
       "    <tr>\n",
       "      <td>0</td>\n",
       "      <td>Organic Necklace Petite</td>\n",
       "      <td>0110</td>\n",
       "      <td>Cavan Gold</td>\n",
       "      <td>2020-04-28</td>\n",
       "      <td>1</td>\n",
       "      <td>115.0</td>\n",
       "      <td>NaN</td>\n",
       "    </tr>\n",
       "    <tr>\n",
       "      <td>3</td>\n",
       "      <td>LIMITED EDITION MMXX Necklace</td>\n",
       "      <td>MMXX0110</td>\n",
       "      <td>Cavan Gold</td>\n",
       "      <td>2020-04-28</td>\n",
       "      <td>1</td>\n",
       "      <td>115.0</td>\n",
       "      <td>NaN</td>\n",
       "    </tr>\n",
       "    <tr>\n",
       "      <td>12</td>\n",
       "      <td>Miss America Necklace Petite</td>\n",
       "      <td>MAO0110</td>\n",
       "      <td>Cavan Gold</td>\n",
       "      <td>2020-04-20</td>\n",
       "      <td>1</td>\n",
       "      <td>115.0</td>\n",
       "      <td>NaN</td>\n",
       "    </tr>\n",
       "    <tr>\n",
       "      <td>14</td>\n",
       "      <td>TCU Frog Fountain Necklace</td>\n",
       "      <td>TCU0110FOUNTAIN</td>\n",
       "      <td>Cavan Gold</td>\n",
       "      <td>2020-04-16</td>\n",
       "      <td>1</td>\n",
       "      <td>115.0</td>\n",
       "      <td>NaN</td>\n",
       "    </tr>\n",
       "    <tr>\n",
       "      <td>16</td>\n",
       "      <td>Organic Necklace</td>\n",
       "      <td>0112</td>\n",
       "      <td>Sterling Silver</td>\n",
       "      <td>2020-04-21</td>\n",
       "      <td>1</td>\n",
       "      <td>113.4</td>\n",
       "      <td>NaN</td>\n",
       "    </tr>\n",
       "  </tbody>\n",
       "</table>\n",
       "</div>"
      ],
      "text/plain": [
       "                    product_title      variant_sku  ... total_sales Collection\n",
       "0         Organic Necklace Petite             0110  ...       115.0        NaN\n",
       "3   LIMITED EDITION MMXX Necklace         MMXX0110  ...       115.0        NaN\n",
       "12   Miss America Necklace Petite          MAO0110  ...       115.0        NaN\n",
       "14     TCU Frog Fountain Necklace  TCU0110FOUNTAIN  ...       115.0        NaN\n",
       "16               Organic Necklace             0112  ...       113.4        NaN\n",
       "\n",
       "[5 rows x 7 columns]"
      ]
     },
     "execution_count": 96,
     "metadata": {},
     "output_type": "execute_result"
    }
   ],
   "source": [
    "na.head()"
   ]
  },
  {
   "cell_type": "markdown",
   "metadata": {},
   "source": [
    "## Stop and think:\n",
    "\n",
    "NA values always occur in real business.   \n",
    "Here, based on domain knowlege and company website, __MMXX__  and __Miss America__ are two other collections ~~not in school list~~.  \n",
    "Other than these two, the rest are __custom__ pieces not for online sale."
   ]
  },
  {
   "cell_type": "markdown",
   "metadata": {},
   "source": [
    "## Fill Na"
   ]
  },
  {
   "cell_type": "code",
   "execution_count": 102,
   "metadata": {},
   "outputs": [
    {
     "data": {
      "text/html": [
       "<div>\n",
       "<style scoped>\n",
       "    .dataframe tbody tr th:only-of-type {\n",
       "        vertical-align: middle;\n",
       "    }\n",
       "\n",
       "    .dataframe tbody tr th {\n",
       "        vertical-align: top;\n",
       "    }\n",
       "\n",
       "    .dataframe thead th {\n",
       "        text-align: right;\n",
       "    }\n",
       "</style>\n",
       "<table border=\"1\" class=\"dataframe\">\n",
       "  <thead>\n",
       "    <tr style=\"text-align: right;\">\n",
       "      <th></th>\n",
       "      <th>product_title</th>\n",
       "      <th>variant_sku</th>\n",
       "      <th>variant_title</th>\n",
       "      <th>day</th>\n",
       "      <th>net_quantity</th>\n",
       "      <th>total_sales</th>\n",
       "      <th>Collection</th>\n",
       "    </tr>\n",
       "  </thead>\n",
       "  <tbody>\n",
       "    <tr>\n",
       "      <td>0</td>\n",
       "      <td>Organic Necklace Petite</td>\n",
       "      <td>0110</td>\n",
       "      <td>Cavan Gold</td>\n",
       "      <td>2020-04-28</td>\n",
       "      <td>1</td>\n",
       "      <td>115.0</td>\n",
       "      <td>Custom</td>\n",
       "    </tr>\n",
       "    <tr>\n",
       "      <td>3</td>\n",
       "      <td>LIMITED EDITION MMXX Necklace</td>\n",
       "      <td>MMXX0110</td>\n",
       "      <td>Cavan Gold</td>\n",
       "      <td>2020-04-28</td>\n",
       "      <td>1</td>\n",
       "      <td>115.0</td>\n",
       "      <td>MMXX</td>\n",
       "    </tr>\n",
       "    <tr>\n",
       "      <td>12</td>\n",
       "      <td>Miss America Necklace Petite</td>\n",
       "      <td>MAO0110</td>\n",
       "      <td>Cavan Gold</td>\n",
       "      <td>2020-04-20</td>\n",
       "      <td>1</td>\n",
       "      <td>115.0</td>\n",
       "      <td>Miss America</td>\n",
       "    </tr>\n",
       "    <tr>\n",
       "      <td>14</td>\n",
       "      <td>TCU Frog Fountain Necklace</td>\n",
       "      <td>TCU0110FOUNTAIN</td>\n",
       "      <td>Cavan Gold</td>\n",
       "      <td>2020-04-16</td>\n",
       "      <td>1</td>\n",
       "      <td>115.0</td>\n",
       "      <td>Custom</td>\n",
       "    </tr>\n",
       "    <tr>\n",
       "      <td>16</td>\n",
       "      <td>Organic Necklace</td>\n",
       "      <td>0112</td>\n",
       "      <td>Sterling Silver</td>\n",
       "      <td>2020-04-21</td>\n",
       "      <td>1</td>\n",
       "      <td>113.4</td>\n",
       "      <td>Custom</td>\n",
       "    </tr>\n",
       "  </tbody>\n",
       "</table>\n",
       "</div>"
      ],
      "text/plain": [
       "                    product_title      variant_sku  ... total_sales    Collection\n",
       "0         Organic Necklace Petite             0110  ...       115.0        Custom\n",
       "3   LIMITED EDITION MMXX Necklace         MMXX0110  ...       115.0          MMXX\n",
       "12   Miss America Necklace Petite          MAO0110  ...       115.0  Miss America\n",
       "14     TCU Frog Fountain Necklace  TCU0110FOUNTAIN  ...       115.0        Custom\n",
       "16               Organic Necklace             0112  ...       113.4        Custom\n",
       "\n",
       "[5 rows x 7 columns]"
      ]
     },
     "execution_count": 102,
     "metadata": {},
     "output_type": "execute_result"
    }
   ],
   "source": [
    "# make filters\n",
    "mx = na['product_title'].str.contains('MMXX')\n",
    "ma = na['product_title'].str.contains('Miss America')\n",
    "\n",
    "# fill na\n",
    "na.loc[mx, 'Collection'] = 'MMXX'\n",
    "na.loc[ma, 'Collection'] = 'Miss America'\n",
    "na.loc[~(mx + ma), 'Collection'] = 'Custom'\n",
    "\n",
    "na.head()"
   ]
  },
  {
   "cell_type": "code",
   "execution_count": 103,
   "metadata": {},
   "outputs": [
    {
     "data": {
      "text/plain": [
       "0"
      ]
     },
     "execution_count": 103,
     "metadata": {},
     "output_type": "execute_result"
    }
   ],
   "source": [
    "na['Collection'].isna().sum()"
   ]
  },
  {
   "cell_type": "markdown",
   "metadata": {},
   "source": [
    "## Step 5 - Concat na dataset to not_na dataset"
   ]
  },
  {
   "cell_type": "code",
   "execution_count": 123,
   "metadata": {},
   "outputs": [
    {
     "data": {
      "text/html": [
       "<div>\n",
       "<style scoped>\n",
       "    .dataframe tbody tr th:only-of-type {\n",
       "        vertical-align: middle;\n",
       "    }\n",
       "\n",
       "    .dataframe tbody tr th {\n",
       "        vertical-align: top;\n",
       "    }\n",
       "\n",
       "    .dataframe thead th {\n",
       "        text-align: right;\n",
       "    }\n",
       "</style>\n",
       "<table border=\"1\" class=\"dataframe\">\n",
       "  <thead>\n",
       "    <tr style=\"text-align: right;\">\n",
       "      <th></th>\n",
       "      <th>product_title</th>\n",
       "      <th>variant_sku</th>\n",
       "      <th>variant_title</th>\n",
       "      <th>day</th>\n",
       "      <th>net_quantity</th>\n",
       "      <th>total_sales</th>\n",
       "      <th>Collection</th>\n",
       "    </tr>\n",
       "  </thead>\n",
       "  <tbody>\n",
       "    <tr>\n",
       "      <td>0</td>\n",
       "      <td>Villanova Wildcat Necklace</td>\n",
       "      <td>VU0110WILD</td>\n",
       "      <td>Cavan Gold</td>\n",
       "      <td>2020-04-25</td>\n",
       "      <td>1</td>\n",
       "      <td>115.0</td>\n",
       "      <td>Villanova</td>\n",
       "    </tr>\n",
       "    <tr>\n",
       "      <td>1</td>\n",
       "      <td>Miami M Necklace</td>\n",
       "      <td>MOH0110M</td>\n",
       "      <td>Cavan Gold</td>\n",
       "      <td>2020-04-25</td>\n",
       "      <td>1</td>\n",
       "      <td>115.0</td>\n",
       "      <td>Miami</td>\n",
       "    </tr>\n",
       "    <tr>\n",
       "      <td>2</td>\n",
       "      <td>Princeton Tiger Necklace</td>\n",
       "      <td>PRI0110TIG</td>\n",
       "      <td>Cavan Gold</td>\n",
       "      <td>2020-04-22</td>\n",
       "      <td>1</td>\n",
       "      <td>115.0</td>\n",
       "      <td>Princeton</td>\n",
       "    </tr>\n",
       "  </tbody>\n",
       "</table>\n",
       "</div>"
      ],
      "text/plain": [
       "                product_title variant_sku  ... total_sales Collection\n",
       "0  Villanova Wildcat Necklace  VU0110WILD  ...       115.0  Villanova\n",
       "1            Miami M Necklace    MOH0110M  ...       115.0     Miami \n",
       "2    Princeton Tiger Necklace  PRI0110TIG  ...       115.0  Princeton\n",
       "\n",
       "[3 rows x 7 columns]"
      ]
     },
     "execution_count": 123,
     "metadata": {},
     "output_type": "execute_result"
    }
   ],
   "source": [
    "df_filled = pd.concat([not_na, na])\n",
    "df_filled.reset_index(drop = True, inplace = True)\n",
    "\n",
    "df_filled.head(3)"
   ]
  },
  {
   "cell_type": "code",
   "execution_count": 122,
   "metadata": {},
   "outputs": [
    {
     "data": {
      "text/html": [
       "<div>\n",
       "<style scoped>\n",
       "    .dataframe tbody tr th:only-of-type {\n",
       "        vertical-align: middle;\n",
       "    }\n",
       "\n",
       "    .dataframe tbody tr th {\n",
       "        vertical-align: top;\n",
       "    }\n",
       "\n",
       "    .dataframe thead th {\n",
       "        text-align: right;\n",
       "    }\n",
       "</style>\n",
       "<table border=\"1\" class=\"dataframe\">\n",
       "  <thead>\n",
       "    <tr style=\"text-align: right;\">\n",
       "      <th></th>\n",
       "      <th>product_title</th>\n",
       "      <th>variant_sku</th>\n",
       "      <th>variant_title</th>\n",
       "      <th>day</th>\n",
       "      <th>net_quantity</th>\n",
       "      <th>total_sales</th>\n",
       "      <th>Collection</th>\n",
       "    </tr>\n",
       "  </thead>\n",
       "  <tbody>\n",
       "    <tr>\n",
       "      <td>97</td>\n",
       "      <td>LIMITED EDITION MMXX Necklace</td>\n",
       "      <td>MMXX0109</td>\n",
       "      <td>Sterling Silver</td>\n",
       "      <td>2020-04-07</td>\n",
       "      <td>1</td>\n",
       "      <td>85.0</td>\n",
       "      <td>MMXX</td>\n",
       "    </tr>\n",
       "    <tr>\n",
       "      <td>98</td>\n",
       "      <td>LIMITED EDITION MMXX Necklace</td>\n",
       "      <td>MMXX0109</td>\n",
       "      <td>Sterling Silver</td>\n",
       "      <td>2020-04-12</td>\n",
       "      <td>1</td>\n",
       "      <td>82.9</td>\n",
       "      <td>MMXX</td>\n",
       "    </tr>\n",
       "    <tr>\n",
       "      <td>99</td>\n",
       "      <td>St. Lawrence Organic Necklace Petite</td>\n",
       "      <td>SLU0110</td>\n",
       "      <td>Cavan Gold</td>\n",
       "      <td>2020-04-01</td>\n",
       "      <td>1</td>\n",
       "      <td>80.5</td>\n",
       "      <td>Custom</td>\n",
       "    </tr>\n",
       "  </tbody>\n",
       "</table>\n",
       "</div>"
      ],
      "text/plain": [
       "                           product_title variant_sku  ... total_sales Collection\n",
       "97         LIMITED EDITION MMXX Necklace    MMXX0109  ...        85.0       MMXX\n",
       "98         LIMITED EDITION MMXX Necklace    MMXX0109  ...        82.9       MMXX\n",
       "99  St. Lawrence Organic Necklace Petite     SLU0110  ...        80.5     Custom\n",
       "\n",
       "[3 rows x 7 columns]"
      ]
     },
     "execution_count": 122,
     "metadata": {},
     "output_type": "execute_result"
    }
   ],
   "source": [
    "df_filled.tail(3)"
   ]
  },
  {
   "cell_type": "code",
   "execution_count": 110,
   "metadata": {},
   "outputs": [
    {
     "data": {
      "text/plain": [
       "(100, 7)"
      ]
     },
     "execution_count": 110,
     "metadata": {},
     "output_type": "execute_result"
    }
   ],
   "source": [
    "df_filled.shape  # same shape as before"
   ]
  },
  {
   "cell_type": "markdown",
   "metadata": {},
   "source": [
    "## Wrapping up \n",
    "### What're the __top 10__ collections?"
   ]
  },
  {
   "cell_type": "code",
   "execution_count": 121,
   "metadata": {},
   "outputs": [
    {
     "data": {
      "text/html": [
       "<div>\n",
       "<style scoped>\n",
       "    .dataframe tbody tr th:only-of-type {\n",
       "        vertical-align: middle;\n",
       "    }\n",
       "\n",
       "    .dataframe tbody tr th {\n",
       "        vertical-align: top;\n",
       "    }\n",
       "\n",
       "    .dataframe thead th {\n",
       "        text-align: right;\n",
       "    }\n",
       "</style>\n",
       "<table border=\"1\" class=\"dataframe\">\n",
       "  <thead>\n",
       "    <tr style=\"text-align: right;\">\n",
       "      <th></th>\n",
       "      <th>net_quantity</th>\n",
       "    </tr>\n",
       "    <tr>\n",
       "      <th>Collection</th>\n",
       "      <th></th>\n",
       "    </tr>\n",
       "  </thead>\n",
       "  <tbody>\n",
       "    <tr>\n",
       "      <td>Custom</td>\n",
       "      <td>18</td>\n",
       "    </tr>\n",
       "    <tr>\n",
       "      <td>MMXX</td>\n",
       "      <td>17</td>\n",
       "    </tr>\n",
       "    <tr>\n",
       "      <td>Villanova</td>\n",
       "      <td>9</td>\n",
       "    </tr>\n",
       "    <tr>\n",
       "      <td>Virginia Tech</td>\n",
       "      <td>5</td>\n",
       "    </tr>\n",
       "    <tr>\n",
       "      <td>Miss America</td>\n",
       "      <td>4</td>\n",
       "    </tr>\n",
       "    <tr>\n",
       "      <td>Miami</td>\n",
       "      <td>4</td>\n",
       "    </tr>\n",
       "    <tr>\n",
       "      <td>Alpha Delta Pi</td>\n",
       "      <td>3</td>\n",
       "    </tr>\n",
       "    <tr>\n",
       "      <td>TCU</td>\n",
       "      <td>3</td>\n",
       "    </tr>\n",
       "    <tr>\n",
       "      <td>Purdue</td>\n",
       "      <td>3</td>\n",
       "    </tr>\n",
       "    <tr>\n",
       "      <td>West Virginia</td>\n",
       "      <td>3</td>\n",
       "    </tr>\n",
       "  </tbody>\n",
       "</table>\n",
       "</div>"
      ],
      "text/plain": [
       "                 net_quantity\n",
       "Collection                   \n",
       "Custom                     18\n",
       "MMXX                       17\n",
       "Villanova                   9\n",
       "Virginia Tech               5\n",
       "Miss America                4\n",
       "Miami                       4\n",
       "Alpha Delta Pi              3\n",
       "TCU                         3\n",
       "Purdue                      3\n",
       "West Virginia               3"
      ]
     },
     "execution_count": 121,
     "metadata": {},
     "output_type": "execute_result"
    }
   ],
   "source": [
    "df_filled.groupby('Collection').agg({'net_quantity':'sum'}).sort_values('net_quantity', ascending = False).head(10)"
   ]
  },
  {
   "cell_type": "markdown",
   "metadata": {},
   "source": [
    "## Well Done!"
   ]
  }
 ],
 "metadata": {
  "jupytext": {
   "formats": "ipynb,md"
  },
  "kernelspec": {
   "display_name": "Python 3",
   "language": "python",
   "name": "python3"
  },
  "language_info": {
   "codemirror_mode": {
    "name": "ipython",
    "version": 3
   },
   "file_extension": ".py",
   "mimetype": "text/x-python",
   "name": "python",
   "nbconvert_exporter": "python",
   "pygments_lexer": "ipython3",
   "version": "3.7.4"
  }
 },
 "nbformat": 4,
 "nbformat_minor": 2
}
