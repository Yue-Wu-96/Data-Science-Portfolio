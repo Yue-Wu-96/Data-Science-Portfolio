{
 "cells": [
  {
   "cell_type": "markdown",
   "metadata": {},
   "source": [
    "## Scrapy VS Beautiful Soup\n"
   ]
  },
  {
   "cell_type": "markdown",
   "metadata": {},
   "source": [
    "### Step1-Create selector"
   ]
  },
  {
   "cell_type": "code",
   "execution_count": 10,
   "metadata": {},
   "outputs": [],
   "source": [
    "import scrapy\n",
    "from scrapy import Selector\n",
    "import requests"
   ]
  },
  {
   "cell_type": "code",
   "execution_count": 12,
   "metadata": {},
   "outputs": [],
   "source": [
    "url = 'https://kylecavan.com/pages/schools'\n",
    "html = requests.get(url).content\n",
    "\n",
    "# .content!"
   ]
  },
  {
   "cell_type": "code",
   "execution_count": 29,
   "metadata": {},
   "outputs": [
    {
     "output_type": "stream",
     "name": "stdout",
     "text": "<class 'scrapy.selector.unified.Selector'>\n<class 'scrapy.selector.unified.Selector'>\n"
    }
   ],
   "source": [
    "# create selector from url or html\n",
    "\n",
    "selu = Selector(text=url)\n",
    "print(type(selu))\n",
    "\n",
    "selh = Selector(text=html)\n",
    "print(type(selh))\n",
    "\n",
    "# ?Selector # for more information about text"
   ]
  },
  {
   "cell_type": "markdown",
   "metadata": {},
   "source": [
    "### Step2-Extract data"
   ]
  },
  {
   "cell_type": "code",
   "execution_count": 15,
   "metadata": {},
   "outputs": [],
   "source": [
    "# define path for all data with \"school-menu\" class\n",
    "\n",
    "xpath1 = '//*[@class = \"school-menu\"]'\n",
    "css1 = '.school-menu'"
   ]
  },
  {
   "cell_type": "code",
   "execution_count": 22,
   "metadata": {},
   "outputs": [],
   "source": [
    "# extract with xpath\n",
    "reh = selh.xpath(xpath1).extract_first()\n",
    "\n",
    "# alternative with css\n",
    "rec = selh.css(css1).extract_first()"
   ]
  },
  {
   "cell_type": "markdown",
   "metadata": {},
   "source": [
    "### Notes\n",
    " - `selector.path` returns a SelectorList of Selector objects\n",
    " - `selector.path.extract` return data in that those Selector objects list\n",
    " - `selector.path.extract_first` return first element in that list\n",
    "\n",
    "temp = selh.css(css1)  \n",
    "temp"
   ]
  },
  {
   "cell_type": "markdown",
   "metadata": {},
   "source": [
    "## Stop and think: \"reh\" above looks messy. What's next?\n",
    "Inspect website data and find that target collections names are in links under \"school-menu\" class"
   ]
  },
  {
   "cell_type": "code",
   "execution_count": 50,
   "metadata": {},
   "outputs": [
    {
     "output_type": "stream",
     "name": "stdout",
     "text": "165\n<class 'list'>\n<class 'str'>\n"
    },
    {
     "output_type": "execute_result",
     "data": {
      "text/plain": "['/collections/alabama',\n '/collections/auburn',\n '/collections/baylor',\n '/collections/uc-berkeley',\n '/collections/boston-college']"
     },
     "metadata": {},
     "execution_count": 50
    }
   ],
   "source": [
    "# get all links in all decents of class \"school-menu\"\n",
    "\n",
    "col = selh.css('.school-menu a::attr(href)').extract()\n",
    "\n",
    "# validate result: get a list of 165 strings\n",
    "print(len(col))\n",
    "print(type(col))\n",
    "print(type(col[0]))\n",
    "\n",
    "# preview\n",
    "col[0:5]"
   ]
  },
  {
   "cell_type": "markdown",
   "metadata": {},
   "source": [
    "### Tips: alternative ways with xpath and append\n",
    "\n",
    "__xpath__  \n",
    "`col_xpath = selh.xpath('//*[@class =\"school-menu\"]//a/@href').extract()`  \n",
    "\n",
    "__xpath.css__  \n",
    "`col_xadd = selh.xpath(xpath1).css(' a::attr(href)').extract()`  \n"
   ]
  },
  {
   "cell_type": "markdown",
   "metadata": {},
   "source": [
    "## Next, it's just to clean text!\n"
   ]
  },
  {
   "cell_type": "code",
   "execution_count": 60,
   "metadata": {},
   "outputs": [],
   "source": [
    "import pandas as pd \n",
    "\n",
    "def clean_col(x):\n",
    "    # First, get rid of special characters\n",
    "    x = x.strip(\"'\")\n",
    "    x = x.replace(\"/collections/\",'')\n",
    "    x = x.replace('-',' ')\n",
    "\n",
    "    # Then, prettify text with each word in school name capitalized\n",
    "    x = [x.capitalize() for x in x.split()]\n",
    "    x = ' '.join(x)\n",
    "    return x\n"
   ]
  },
  {
   "cell_type": "code",
   "execution_count": 61,
   "metadata": {},
   "outputs": [
    {
     "output_type": "stream",
     "name": "stdout",
     "text": "['Alabama', 'Auburn', 'Baylor', 'Uc Berkeley', 'Boston College']\n['Washington Lee', 'West Virginia', 'Williams College', 'William Mary']\n"
    }
   ],
   "source": [
    "# clean list\n",
    "col_cleaned = [clean_col(x) for x in col]\n",
    "\n",
    "# preview head and tail\n",
    "print(col_cleaned[0:5])\n",
    "print(col_cleaned[-5:-1])"
   ]
  },
  {
   "cell_type": "markdown",
   "metadata": {},
   "source": [
    "## Looks great! \n",
    "## Finally, let's write result to a dataframe for numerous later uses"
   ]
  },
  {
   "cell_type": "code",
   "execution_count": 62,
   "metadata": {},
   "outputs": [
    {
     "output_type": "execute_result",
     "data": {
      "text/plain": "                0\n0         Alabama\n1          Auburn\n2          Baylor\n3     Uc Berkeley\n4  Boston College",
      "text/html": "<div>\n<style scoped>\n    .dataframe tbody tr th:only-of-type {\n        vertical-align: middle;\n    }\n\n    .dataframe tbody tr th {\n        vertical-align: top;\n    }\n\n    .dataframe thead th {\n        text-align: right;\n    }\n</style>\n<table border=\"1\" class=\"dataframe\">\n  <thead>\n    <tr style=\"text-align: right;\">\n      <th></th>\n      <th>0</th>\n    </tr>\n  </thead>\n  <tbody>\n    <tr>\n      <td>0</td>\n      <td>Alabama</td>\n    </tr>\n    <tr>\n      <td>1</td>\n      <td>Auburn</td>\n    </tr>\n    <tr>\n      <td>2</td>\n      <td>Baylor</td>\n    </tr>\n    <tr>\n      <td>3</td>\n      <td>Uc Berkeley</td>\n    </tr>\n    <tr>\n      <td>4</td>\n      <td>Boston College</td>\n    </tr>\n  </tbody>\n</table>\n</div>"
     },
     "metadata": {},
     "execution_count": 62
    }
   ],
   "source": [
    "# List to dataframe\n",
    "\n",
    "df = pd.DataFrame(col_cleaned)\n",
    "df.head()"
   ]
  },
  {
   "cell_type": "code",
   "execution_count": 63,
   "metadata": {},
   "outputs": [],
   "source": [
    "df.to_csv('All_Collections.csv', index = False)"
   ]
  },
  {
   "cell_type": "markdown",
   "metadata": {},
   "source": [
    "## Well done!"
   ]
  },
  {
   "cell_type": "markdown",
   "metadata": {},
   "source": [
    "## A fasterrr way\n",
    "tst = selh.css('.school-menu a::text').extract()  #::text extract content??\n",
    "tst"
   ]
  },
  {
   "cell_type": "code",
   "execution_count": null,
   "metadata": {},
   "outputs": [],
   "source": []
  }
 ],
 "metadata": {
  "language_info": {
   "codemirror_mode": {
    "name": "ipython",
    "version": 3
   },
   "file_extension": ".py",
   "mimetype": "text/x-python",
   "name": "python",
   "nbconvert_exporter": "python",
   "pygments_lexer": "ipython3",
   "version": "3.7.4-final"
  },
  "orig_nbformat": 2,
  "kernelspec": {
   "name": "python3",
   "display_name": "Python 3"
  }
 },
 "nbformat": 4,
 "nbformat_minor": 2
}